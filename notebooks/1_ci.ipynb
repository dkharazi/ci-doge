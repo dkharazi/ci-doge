{
 "cells": [
  {
   "cell_type": "code",
   "execution_count": null,
   "metadata": {},
   "outputs": [],
   "source": [
    "# Do example from:\n",
    "# But swap out for SNL date and dogecoin price data\n",
    "# https://github.com/WillianFuks/tfcausalimpact#example\n",
    "# motivating example of correlation: https://www.cnbc.com/2021/01/29/bitcoin-spikes-20percent-after-elon-musk-adds-bitcoin-to-his-twitter-bio.html\n",
    "# motivation: https://www.alexpghayes.com/blog/elon-musk-send-tweet/\n",
    "# motivation: https://fabiandablander.com/r/Causal-Doge.html"
   ]
  }
 ],
 "metadata": {
  "kernelspec": {
   "display_name": "Python 3",
   "language": "python",
   "name": "python3"
  },
  "language_info": {
   "codemirror_mode": {
    "name": "ipython",
    "version": 3
   },
   "file_extension": ".py",
   "mimetype": "text/x-python",
   "name": "python",
   "nbconvert_exporter": "python",
   "pygments_lexer": "ipython3",
   "version": "3.7.6"
  }
 },
 "nbformat": 4,
 "nbformat_minor": 4
}
