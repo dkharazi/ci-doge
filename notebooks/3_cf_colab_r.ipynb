{
 "metadata": {
  "language_info": {
   "codemirror_mode": {
    "name": "ipython",
    "version": 3
   },
   "file_extension": ".py",
   "mimetype": "text/x-python",
   "name": "python",
   "nbconvert_exporter": "python",
   "pygments_lexer": "ipython3",
   "version": 3
  },
  "orig_nbformat": 4
 },
 "nbformat": 4,
 "nbformat_minor": 2,
 "cells": [
  {
   "cell_type": "code",
   "execution_count": null,
   "metadata": {},
   "outputs": [],
   "source": [
    "install.packages('CausalImpact')"
   ]
  },
  {
   "cell_type": "code",
   "execution_count": null,
   "metadata": {},
   "outputs": [],
   "source": [
    "## Loading Libraries"
   ]
  },
  {
   "cell_type": "code",
   "execution_count": null,
   "metadata": {},
   "outputs": [],
   "source": [
    "library(CausalImpact)"
   ]
  },
  {
   "cell_type": "code",
   "execution_count": null,
   "metadata": {},
   "outputs": [],
   "source": [
    "## Loading Data"
   ]
  },
  {
   "cell_type": "code",
   "execution_count": null,
   "metadata": {},
   "outputs": [],
   "source": [
    "# Read in data\n",
    "data <- read.csv('https://raw.githubusercontent.com/dkharazi/ci-doge/main/data/DOGE-USD.csv')\n",
    "\n",
    "# Rename columns\n",
    "colnames(data) <- c(\"t\", \"y\")\n",
    "\n",
    "# Convert date column to date format\n",
    "data$t <- as.Date(data$t, format=\"%m/%d/%Y\")\n",
    "\n",
    "# Filter Dogecoin prices only from April 2021 onwards\n",
    "data <- data[(data$t >= \"21-04-01\") & (data$t <= \"21-06-01\"),]\n",
    "\n",
    "# Assign date column as index\n",
    "rownames(data) <- data$t\n",
    "\n",
    "# Remove duplicate time column\n",
    "data <- data[\"y\"]\n",
    "\n",
    "# Get a glimpse of the data\n",
    "head(data)"
   ]
  },
  {
   "cell_type": "code",
   "execution_count": null,
   "metadata": {},
   "outputs": [],
   "source": [
    "pre.period <- c(as.numeric(as.Date(\"2021-04-01\")), as.numeric(as.Date(\"2021-05-08\")))\n",
    "post.period <- c(as.numeric(as.Date(\"2021-05-09\")), as.numeric(as.Date(\"2021-06-01\")))"
   ]
  },
  {
   "cell_type": "code",
   "execution_count": null,
   "metadata": {},
   "outputs": [],
   "source": [
    "ci = CausalImpact(data, pre.period, post.period)"
   ]
  },
  {
   "cell_type": "code",
   "execution_count": null,
   "metadata": {},
   "outputs": [],
   "source": [
    "ci.plot()"
   ]
  }
 ]
}