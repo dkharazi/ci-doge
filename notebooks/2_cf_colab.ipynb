{
 "metadata": {
  "language_info": {
   "codemirror_mode": {
    "name": "ipython",
    "version": 3
   },
   "file_extension": ".py",
   "mimetype": "text/x-python",
   "name": "python",
   "nbconvert_exporter": "python",
   "pygments_lexer": "ipython3",
   "version": 3
  },
  "orig_nbformat": 4
 },
 "nbformat": 4,
 "nbformat_minor": 2,
 "cells": [
  {
   "cell_type": "code",
   "execution_count": null,
   "metadata": {},
   "outputs": [],
   "source": [
    "!pip install tfcausalimpact\n",
    "!pip install pandas"
   ]
  },
  {
   "source": [
    "## Importing Libraries"
   ],
   "cell_type": "code",
   "metadata": {},
   "execution_count": null,
   "outputs": []
  },
  {
   "cell_type": "code",
   "execution_count": null,
   "metadata": {},
   "outputs": [],
   "source": [
    "import pandas as pd\n",
    "from causalimpact import CausalImpact"
   ]
  },
  {
   "cell_type": "code",
   "execution_count": null,
   "metadata": {},
   "outputs": [],
   "source": [
    "## Loading and Preprocessing Data"
   ]
  },
  {
   "cell_type": "code",
   "execution_count": null,
   "metadata": {},
   "outputs": [],
   "source": [
    "# Read in data of historical, daily Dogecoin prices\n",
    "# Downloaded from Yahoo Finance\n",
    "data = pd.read_csv('https://raw.githubusercontent.com/dkharazi/ci-doge/main/data/DOGE-USD.csv')"
   ]
  },
  {
   "cell_type": "code",
   "execution_count": null,
   "metadata": {},
   "outputs": [],
   "source": [
    "# Only keep columns for date and adjusted closing price\n",
    "data = data[['Date', 'Adj Close']]\n",
    "\n",
    "# Filter Dogecoin prices in 2021 only\n",
    "data = data[data['Date'] >= '2021-01-01']\n",
    "data = data.reset_index(drop=True)"
   ]
  },
  {
   "cell_type": "code",
   "execution_count": null,
   "metadata": {},
   "outputs": [],
   "source": [
    "# Get a glimpse of data!\n",
    "data.head()"
   ]
  },
  {
   "cell_type": "code",
   "execution_count": null,
   "metadata": {},
   "outputs": [],
   "source": [
    "## Preparing CI Variables"
   ]
  },
  {
   "cell_type": "code",
   "execution_count": null,
   "metadata": {},
   "outputs": [],
   "source": [
    "# Assign fixed variables\n",
    "elon_snl_date = '2021-05-08'\n",
    "elon_snl_idx = data[data['Date'] == elon_snl_date].index[0]"
   ]
  },
  {
   "cell_type": "code",
   "execution_count": null,
   "metadata": {},
   "outputs": [],
   "source": [
    "# Get pre-treatment and post-treatment dates\n",
    "pre_period = [0, elon_snl_idx]\n",
    "post_period = [elon_snl_idx+1, max(data.index)]\n",
    "\n",
    "# Get glimpse of pre-treatment and post-treatment dates!\n",
    "pre_period, post_period"
   ]
  },
  {
   "cell_type": "code",
   "execution_count": null,
   "metadata": {},
   "outputs": [],
   "source": [
    "# Drop date column\n",
    "data = data.drop(columns=['Date'])\n",
    "\n",
    "# Rename column of prices to y\n",
    "data = data.rename(columns={'Adj Close': 'y'})\n",
    "\n",
    "# Get a glimpse of data!\n",
    "data.head()"
   ]
  },
  {
   "cell_type": "code",
   "execution_count": null,
   "metadata": {},
   "outputs": [],
   "source": [
    "## Modeling Causal Effects"
   ]
  },
  {
   "cell_type": "code",
   "execution_count": null,
   "metadata": {},
   "outputs": [],
   "source": []
  }
 ]
}